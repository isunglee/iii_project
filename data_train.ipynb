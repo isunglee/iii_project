{
 "cells": [
  {
   "cell_type": "code",
   "execution_count": 9,
   "metadata": {
    "collapsed": false
   },
   "outputs": [],
   "source": [
    "import os\n",
    "from PIL import Image\n",
    "import numpy as np\n",
    "images = []\n",
    "labels = []\n",
    "\n",
    "width = 800\n",
    "height = 600\n",
    "depth = 3\n",
    "for root, dirs, files in os.walk(\"/tmp/image/train/\"):\n",
    "    \n",
    "    for f in files:\n",
    "        try:\n",
    "            path = os.path.join(root, f)\n",
    "            if root.split('/')[-1] == 'expressionism':\n",
    "                image = Image.open(path)\n",
    "                array_3 = np.array(image)\n",
    "                array_1 = np.reshape(array_3,width*height*depth)\n",
    "                images.append(array_1)\n",
    "                labels.append(0)           \n",
    "            elif root.split('/')[-1] == 'impressionism':\n",
    "                image = Image.open(path)\n",
    "                array_3 = np.array(image)\n",
    "                array_1 = np.reshape(array_3,width*height*depth)\n",
    "                images.append(array_1)\n",
    "                labels.append(1) \n",
    "            elif root.split('/')[-1] == 'postImpressionism':\n",
    "                image = Image.open(path)\n",
    "                array_3 = np.array(image)\n",
    "                array_1 = np.reshape(array_3,width*height*depth)\n",
    "                images.append(array_1)\n",
    "                labels.append(2)\n",
    "        except:\n",
    "            pass\n",
    "dic = {'labels':labels, 'data':images}\n",
    "print len(dic['d'])"
   ]
  }
 ],
 "metadata": {
  "kernelspec": {
   "display_name": "Python 2",
   "language": "python",
   "name": "python2"
  },
  "language_info": {
   "codemirror_mode": {
    "name": "ipython",
    "version": 2
   },
   "file_extension": ".py",
   "mimetype": "text/x-python",
   "name": "python",
   "nbconvert_exporter": "python",
   "pygments_lexer": "ipython2",
   "version": "2.7.6"
  }
 },
 "nbformat": 4,
 "nbformat_minor": 0
}
